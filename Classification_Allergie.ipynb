{
  "nbformat": 4,
  "nbformat_minor": 0,
  "metadata": {
    "colab": {
      "provenance": [],
      "authorship_tag": "ABX9TyNXnhvUS+eXcH6EvoLkzwh5",
      "include_colab_link": true
    },
    "kernelspec": {
      "name": "python3",
      "display_name": "Python 3"
    },
    "language_info": {
      "name": "python"
    }
  },
  "cells": [
    {
      "cell_type": "markdown",
      "metadata": {
        "id": "view-in-github",
        "colab_type": "text"
      },
      "source": [
        "<a href=\"https://colab.research.google.com/github/ibrayoubi10/TER-ALLERGIE/blob/main/Classification_Allergie.ipynb\" target=\"_parent\"><img src=\"https://colab.research.google.com/assets/colab-badge.svg\" alt=\"Open In Colab\"/></a>"
      ]
    },
    {
      "cell_type": "code",
      "execution_count": 1,
      "metadata": {
        "colab": {
          "base_uri": "https://localhost:8080/"
        },
        "id": "uxoClTNyIpTt",
        "outputId": "37fe3ee8-5bf7-4e63-de4c-f6df84633050"
      },
      "outputs": [
        {
          "output_type": "stream",
          "name": "stderr",
          "text": [
            "[nltk_data] Downloading package wordnet to /root/nltk_data...\n",
            "[nltk_data] Downloading package stopwords to /root/nltk_data...\n",
            "[nltk_data]   Unzipping corpora/stopwords.zip.\n",
            "[nltk_data] Downloading package punkt to /root/nltk_data...\n",
            "[nltk_data]   Unzipping tokenizers/punkt.zip.\n"
          ]
        }
      ],
      "source": [
        "#Sickit learn met régulièrement à jour des versions et\n",
        "#indique des futurs warnings.\n",
        "#ces deux lignes permettent de ne pas les afficher.\n",
        "import warnings\n",
        "warnings.filterwarnings(\"ignore\", category=FutureWarning)\n",
        "# librairies générales\n",
        "import pandas as pd\n",
        "import re\n",
        "from tabulate import tabulate\n",
        "import time\n",
        "import numpy as np\n",
        "import pickle\n",
        "import string\n",
        "import base64\n",
        "import sys\n",
        "# librairie affichage\n",
        "import matplotlib.pyplot as plt\n",
        "import seaborn as sns\n",
        "# librairies scikit learn\n",
        "import sklearn\n",
        "from sklearn.feature_extraction.text import CountVectorizer\n",
        "from sklearn.feature_extraction.text import TfidfVectorizer\n",
        "from sklearn.base import TransformerMixin\n",
        "from sklearn.pipeline import Pipeline\n",
        "from sklearn.model_selection import train_test_split\n",
        "from sklearn import metrics\n",
        "from sklearn.model_selection import cross_val_score\n",
        "from sklearn.metrics import confusion_matrix\n",
        "from sklearn.metrics import classification_report\n",
        "from sklearn.model_selection import KFold\n",
        "from sklearn.model_selection import GridSearchCV\n",
        "from sklearn.metrics import accuracy_score\n",
        "# librairies des classifiers utilisés\n",
        "from sklearn.svm import SVC\n",
        "from sklearn.linear_model import LogisticRegression\n",
        "from sklearn.tree import DecisionTreeClassifier\n",
        "from sklearn.neighbors import KNeighborsClassifier\n",
        "from sklearn.naive_bayes import MultinomialNB\n",
        "from sklearn.ensemble import RandomForestClassifier\n",
        "# librairies NLTK\n",
        "import nltk\n",
        "from nltk.stem import WordNetLemmatizer\n",
        "from nltk.stem import PorterStemmer\n",
        "from nltk.corpus import stopwords\n",
        "from nltk import word_tokenize\n",
        "nltk.download('wordnet')\n",
        "nltk.download('stopwords')\n",
        "nltk.download('punkt')\n",
        "stop_words = set(stopwords.words('english'))"
      ]
    },
    {
      "cell_type": "code",
      "source": [
        "# pour monter son drive Google Drive local\n",
        "from google.colab import drive\n",
        "drive.mount('/content/gdrive')"
      ],
      "metadata": {
        "colab": {
          "base_uri": "https://localhost:8080/"
        },
        "id": "0NmlPi2PItNy",
        "outputId": "7c363b5d-54ec-4e51-a797-d28f52a4d60a"
      },
      "execution_count": 2,
      "outputs": [
        {
          "output_type": "stream",
          "name": "stdout",
          "text": [
            "Mounted at /content/gdrive\n"
          ]
        }
      ]
    },
    {
      "cell_type": "code",
      "source": [
        "my_local_drive='/content/gdrive/My Drive/Colab Notebooks/TER'\n",
        "# Ajout du path pour les librairies, fonctions et données\n",
        "sys.path.append(my_local_drive)\n",
        "# Se positionner sur le répertoire associé\n",
        "%cd $my_local_drive\n",
        "%pwd"
      ],
      "metadata": {
        "colab": {
          "base_uri": "https://localhost:8080/",
          "height": 52
        },
        "id": "4cByte3gJjOg",
        "outputId": "18d7d81e-b237-4b50-c069-a17fc1c9c8d5"
      },
      "execution_count": 3,
      "outputs": [
        {
          "output_type": "stream",
          "name": "stdout",
          "text": [
            "/content/gdrive/My Drive/Colab Notebooks/TER\n"
          ]
        },
        {
          "output_type": "execute_result",
          "data": {
            "text/plain": [
              "'/content/gdrive/My Drive/Colab Notebooks/TER'"
            ],
            "application/vnd.google.colaboratory.intrinsic+json": {
              "type": "string"
            }
          },
          "metadata": {},
          "execution_count": 3
        }
      ]
    },
    {
      "cell_type": "code",
      "source": [
        "import sys\n",
        "sys.path.append(\"/content/gdrive/My Drive/Colab Notebooks/TER\")\n",
        "from MyNLPUtilities import *"
      ],
      "metadata": {
        "id": "9AThut4TJp-h"
      },
      "execution_count": 4,
      "outputs": []
    },
    {
      "cell_type": "code",
      "source": [
        "import pandas as pd\n",
        "\n",
        "# Read the Excel file\n",
        "df = pd.read_excel(\"V1_data_filtered.xlsx\", engine=\"openpyxl\")\n",
        "\n",
        "# Display the first few rows\n",
        "print(df.head())"
      ],
      "metadata": {
        "colab": {
          "base_uri": "https://localhost:8080/"
        },
        "id": "kEkyohY8J18Q",
        "outputId": "c9a781be-a12d-4f0b-f916-49e0d840d1e4"
      },
      "execution_count": 5,
      "outputs": [
        {
          "output_type": "stream",
          "name": "stdout",
          "text": [
            "  Patient_ID Chip_Code  Allergy_Present  Act_d_1  Act_d_2  Act_d_5  Act_d_8  \\\n",
            "0    XPW0001   XPW0001                1      0.0     0.44      0.0      0.0   \n",
            "1    XPW0002   XPW0002                1      0.0     0.00      0.0      0.0   \n",
            "2    XPW0003   XPW0003                1      0.0     0.80      0.0      0.0   \n",
            "3    XPW0004   XPW0004                1      0.0     0.00      0.0      0.0   \n",
            "4    XPW0005   XPW0005                1      0.0     0.00      0.0      0.0   \n",
            "\n",
            "   Aln_g_1  Alt_a_1  Alt_a_6  ...  Pla_l_1  Pol_d_5  Pru_p_1  Pru_p_3  \\\n",
            "0      0.0     8.42      0.0  ...      0.0      0.0      0.0      0.0   \n",
            "1      0.0     0.00      0.0  ...      0.0      0.0      0.0      0.0   \n",
            "2      0.0     0.38      0.0  ...      0.0      0.0      0.0      0.0   \n",
            "3      0.0     0.00      0.0  ...      0.0      0.0      0.0      0.0   \n",
            "4      0.0     0.00      0.0  ...      0.0      0.0      0.0      0.0   \n",
            "\n",
            "   Sal_k_1  Ses_i_1  Tri_a_14  Tri_a_19.0101  Tri_a_aA_TI  Ves_v_5  \n",
            "0      0.0      0.0       0.0            0.0          0.0      0.0  \n",
            "1      0.0      0.0       0.0            0.0          0.0      0.0  \n",
            "2      0.0      0.0       0.0            0.0          0.0      0.0  \n",
            "3      0.0      0.0       0.0            0.0          0.0      0.0  \n",
            "4      0.0      0.0       0.0            0.0          0.0      0.0  \n",
            "\n",
            "[5 rows x 115 columns]\n"
          ]
        }
      ]
    },
    {
      "cell_type": "markdown",
      "source": [
        "Preparation de données"
      ],
      "metadata": {
        "id": "nzfQ_lsITW5e"
      }
    },
    {
      "cell_type": "code",
      "source": [
        "import numpy as np\n",
        "import pandas as pd\n",
        "from sklearn.model_selection import train_test_split\n",
        "from sklearn.ensemble import RandomForestClassifier\n",
        "from sklearn.preprocessing import StandardScaler\n",
        "from sklearn.metrics import accuracy_score, classification_report, confusion_matrix\n",
        "\n",
        "# Supposons que df contient déjà les données\n",
        "X = df.drop([\"Patient_ID\", \"Chip_Code\", \"Allergy_Present\"], axis=1)  # Features\n",
        "y = df[\"Allergy_Present\"]  # Cible (0 = Pas d'allergie, 1 = Allergie)\n",
        "\n",
        "# Standardiser les données\n",
        "scaler = StandardScaler()\n",
        "X_scaled = scaler.fit_transform(X)"
      ],
      "metadata": {
        "id": "k30CEDwGJ6cn"
      },
      "execution_count": 6,
      "outputs": []
    },
    {
      "cell_type": "markdown",
      "source": [
        "RANDOMFOREST"
      ],
      "metadata": {
        "id": "6UbsWavwTSHE"
      }
    },
    {
      "cell_type": "code",
      "source": [
        "# Diviser en jeu d'entraînement et de test (80% train, 20% test)\n",
        "X_train, X_test, y_train, y_test = train_test_split(X_scaled, y, test_size=0.2, random_state=42, stratify=y)\n",
        "\n",
        "# Initialiser et entraîner un modèle Random Forest\n",
        "model = RandomForestClassifier(n_estimators=100, random_state=0)\n",
        "model.fit(X_train, y_train)\n",
        "\n",
        "# Prédictions sur le jeu de test\n",
        "y_pred = model.predict(X_test)\n",
        "\n",
        "# Évaluer le modèle\n",
        "accuracy = accuracy_score(y_test, y_pred)\n",
        "conf_matrix = confusion_matrix(y_test, y_pred)\n",
        "class_report = classification_report(y_test, y_pred)\n",
        "\n",
        "# Afficher les résultats\n",
        "print(f\"Précision du modèle : {accuracy:.2f}\")\n",
        "print(\"\\nMatrice de confusion :\\n\", conf_matrix)\n",
        "print(\"\\nRapport de classification :\\n\", class_report)"
      ],
      "metadata": {
        "colab": {
          "base_uri": "https://localhost:8080/"
        },
        "id": "hUt6JNXuTN9g",
        "outputId": "39c1febf-0708-4c3f-debc-4812098a1d63"
      },
      "execution_count": 7,
      "outputs": [
        {
          "output_type": "stream",
          "name": "stdout",
          "text": [
            "Précision du modèle : 0.57\n",
            "\n",
            "Matrice de confusion :\n",
            " [[108 117]\n",
            " [ 86 160]]\n",
            "\n",
            "Rapport de classification :\n",
            "               precision    recall  f1-score   support\n",
            "\n",
            "           0       0.56      0.48      0.52       225\n",
            "           1       0.58      0.65      0.61       246\n",
            "\n",
            "    accuracy                           0.57       471\n",
            "   macro avg       0.57      0.57      0.56       471\n",
            "weighted avg       0.57      0.57      0.57       471\n",
            "\n"
          ]
        }
      ]
    },
    {
      "cell_type": "code",
      "source": [
        "import numpy as np\n",
        "import pandas as pd\n",
        "import matplotlib.pyplot as plt\n",
        "import seaborn as sns\n",
        "from sklearn.model_selection import train_test_split\n",
        "from sklearn.preprocessing import StandardScaler\n",
        "from sklearn.svm import SVC\n",
        "from sklearn.neighbors import KNeighborsClassifier\n",
        "from xgboost import XGBClassifier\n",
        "from sklearn.metrics import accuracy_score, classification_report, confusion_matrix\n",
        "\n",
        "# Préparation des données\n",
        "X = df.drop([\"Patient_ID\", \"Chip_Code\", \"Allergy_Present\"], axis=1)  # Features\n",
        "y = df[\"Allergy_Present\"]  # Cible (0 = Pas d'allergie, 1 = Allergie)\n",
        "\n",
        "# Standardisation des features\n",
        "scaler = StandardScaler()\n",
        "X_scaled = scaler.fit_transform(X)\n",
        "\n",
        "# Séparation en train/test (80% train, 20% test)\n",
        "X_train, X_test, y_train, y_test = train_test_split(X_scaled, y, test_size=0.2, random_state=42, stratify=y)\n",
        "\n",
        "# 📌 1️⃣ Modèle SVM\n",
        "svm_model = SVC(kernel=\"rbf\", C=1, gamma=\"scale\", random_state=42)\n",
        "svm_model.fit(X_train, y_train)\n",
        "y_pred_svm = svm_model.predict(X_test)\n",
        "\n",
        "# 📌 2️⃣ Modèle KNN\n",
        "knn_model = KNeighborsClassifier(n_neighbors=5)\n",
        "knn_model.fit(X_train, y_train)\n",
        "y_pred_knn = knn_model.predict(X_test)\n",
        "\n",
        "# 📌 3️⃣ Modèle XGBoost\n",
        "xgb_model = XGBClassifier(use_label_encoder=False, eval_metric=\"logloss\", random_state=42)\n",
        "xgb_model.fit(X_train, y_train)\n",
        "y_pred_xgb = xgb_model.predict(X_test)\n",
        "\n",
        "# 📌 Évaluation des modèles\n",
        "models = {\"SVM\": y_pred_svm, \"KNN\": y_pred_knn, \"XGBoost\": y_pred_xgb}\n",
        "for model_name, y_pred in models.items():\n",
        "    print(f\"\\n🔹 {model_name} 🔹\")\n",
        "    print(f\"Précision : {accuracy_score(y_test, y_pred):.2f}\")\n",
        "    print(\"Matrice de confusion :\\n\", confusion_matrix(y_test, y_pred))\n",
        "    print(\"Rapport de classification :\\n\", classification_report(y_test, y_pred))\n",
        "\n",
        "# 📌 Visualisation des matrices de confusion\n",
        "plt.figure(figsize=(15, 5))\n",
        "for i, (model_name, y_pred) in enumerate(models.items()):\n",
        "    plt.subplot(1, 3, i + 1)\n",
        "    sns.heatmap(confusion_matrix(y_test, y_pred), annot=True, fmt=\"d\", cmap=\"Blues\")\n",
        "    plt.title(f\"Matrice de confusion - {model_name}\")\n",
        "    plt.xlabel(\"Prédit\")\n",
        "    plt.ylabel(\"Réel\")\n",
        "\n",
        "plt.tight_layout()\n",
        "plt.show()\n"
      ],
      "metadata": {
        "id": "8DeyuUwwUTJa",
        "colab": {
          "base_uri": "https://localhost:8080/",
          "height": 1000
        },
        "outputId": "2ab64a02-92fc-4914-de2e-b28231f09b88"
      },
      "execution_count": 12,
      "outputs": [
        {
          "output_type": "stream",
          "name": "stderr",
          "text": [
            "/usr/local/lib/python3.11/dist-packages/xgboost/core.py:158: UserWarning: [15:25:22] WARNING: /workspace/src/learner.cc:740: \n",
            "Parameters: { \"use_label_encoder\" } are not used.\n",
            "\n",
            "  warnings.warn(smsg, UserWarning)\n"
          ]
        },
        {
          "output_type": "stream",
          "name": "stdout",
          "text": [
            "\n",
            "🔹 SVM 🔹\n",
            "Précision : 0.54\n",
            "Matrice de confusion :\n",
            " [[ 37 188]\n",
            " [ 28 218]]\n",
            "Rapport de classification :\n",
            "               precision    recall  f1-score   support\n",
            "\n",
            "           0       0.57      0.16      0.26       225\n",
            "           1       0.54      0.89      0.67       246\n",
            "\n",
            "    accuracy                           0.54       471\n",
            "   macro avg       0.55      0.53      0.46       471\n",
            "weighted avg       0.55      0.54      0.47       471\n",
            "\n",
            "\n",
            "🔹 KNN 🔹\n",
            "Précision : 0.50\n",
            "Matrice de confusion :\n",
            " [[119 106]\n",
            " [129 117]]\n",
            "Rapport de classification :\n",
            "               precision    recall  f1-score   support\n",
            "\n",
            "           0       0.48      0.53      0.50       225\n",
            "           1       0.52      0.48      0.50       246\n",
            "\n",
            "    accuracy                           0.50       471\n",
            "   macro avg       0.50      0.50      0.50       471\n",
            "weighted avg       0.50      0.50      0.50       471\n",
            "\n",
            "\n",
            "🔹 XGBoost 🔹\n",
            "Précision : 0.58\n",
            "Matrice de confusion :\n",
            " [[105 120]\n",
            " [ 78 168]]\n",
            "Rapport de classification :\n",
            "               precision    recall  f1-score   support\n",
            "\n",
            "           0       0.57      0.47      0.51       225\n",
            "           1       0.58      0.68      0.63       246\n",
            "\n",
            "    accuracy                           0.58       471\n",
            "   macro avg       0.58      0.57      0.57       471\n",
            "weighted avg       0.58      0.58      0.57       471\n",
            "\n"
          ]
        },
        {
          "output_type": "display_data",
          "data": {
            "text/plain": [
              "<Figure size 1500x500 with 6 Axes>"
            ],
            "image/png": "[encoded data removed]"
          },
          "metadata": {}
        }
      ]
    },
    {
      "cell_type": "code",
      "source": [],
      "metadata": {
        "id": "hZMTa7TKm4aQ"
      },
      "execution_count": null,
      "outputs": []
    }
  ]
}